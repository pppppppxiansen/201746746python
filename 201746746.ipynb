{
  "cells": [
    {
      "cell_type": "markdown",
      "id": "1e1694b4-0ff8-4e25-8c21-756e23ce6972",
      "metadata": {
        "id": "1e1694b4-0ff8-4e25-8c21-756e23ce6972"
      },
      "source": [
        "# GEOG5990M Final Assignment (Template)\n",
        "\n",
        "Student ID number: 201746746"
      ]
    },
    {
      "cell_type": "code",
      "execution_count": 15,
      "id": "1d435d17-0eb5-4238-b242-8e202462c4d9",
      "metadata": {
        "id": "1d435d17-0eb5-4238-b242-8e202462c4d9"
      },
      "outputs": [],
      "source": [
        "# read in required packages\n",
        "import pandas as pd\n",
        "import geopandas as gpd\n",
        "import matplotlib.pyplot as plt\n",
        "import seaborn as sns\n",
        "from sklearn.preprocessing import MinMaxScaler\n",
        "from sklearn.cluster import KMeans"
      ]
    },
    {
      "cell_type": "markdown",
      "source": [
        "First load the occupation data and fuel poverty data, and filter out the data for the Leeds area for data cleaning."
      ],
      "metadata": {
        "id": "l0rQpjPNqKUG"
      },
      "id": "l0rQpjPNqKUG"
    },
    {
      "cell_type": "code",
      "source": [
        "# Load data\n",
        "occupation_data = pd.read_csv('census2021_ts063_lsoa.csv')\n",
        "fuel_poverty_data = pd.read_csv('Fuel_poverty_by_LSOA.csv')\n",
        "leeds_geo = gpd.read_file('Leeds.geojson')\n",
        "# Data preview and clean\n",
        "print(occupation_data.info())\n",
        "print(fuel_poverty_data.info())\n",
        "print(leeds_geo.info())\n",
        "leeds_occupation_data = occupation_data[occupation_data['geography'].str.contains(\"Leeds\", na=False)]\n",
        "leeds_fuel_poverty_data = fuel_poverty_data[fuel_poverty_data['LSOA Name'].str.contains(\"Leeds\", na=False)]\n",
        "leeds_occupation_data.dropna(inplace=True)\n",
        "leeds_fuel_poverty_data.dropna(inplace=True)"
      ],
      "metadata": {
        "id": "TdLjSdJRhyDO"
      },
      "id": "TdLjSdJRhyDO",
      "execution_count": 16,
      "outputs": []
    },
    {
      "cell_type": "markdown",
      "source": [
        "Calculate the proportion of low-income occupations in each LSOA"
      ],
      "metadata": {
        "id": "8bbnDXh3qfGf"
      },
      "id": "8bbnDXh3qfGf"
    },
    {
      "cell_type": "code",
      "source": [
        "low_income_occupation_columns = [\n",
        "    'Occupation (current): 7. Sales and customer service occupations',\n",
        "    'Occupation (current): 8. Process, plant and machine operatives',\n",
        "    'Occupation (current): 9. Elementary occupations'\n",
        "]\n",
        "for column in low_income_occupation_columns:\n",
        "    leeds_occupation_data[column + ' (%)'] = leeds_occupation_data[column] / leeds_occupation_data['Occupation (current): Total: All usual residents aged 16 years and over in employment the week before the census'] * 100\n",
        "leeds_occupation_data['Low Income Occupations (%)'] = leeds_occupation_data[[col + ' (%)' for col in low_income_occupation_columns]].sum(axis=1)"
      ],
      "metadata": {
        "id": "TIvlSVFXh-G-"
      },
      "id": "TIvlSVFXh-G-",
      "execution_count": null,
      "outputs": []
    },
    {
      "cell_type": "markdown",
      "source": [
        "Occupation data and fuel poverty data are merged to create a new index expressing the proportion of low-income occupations in relation to the proportion of fuel poverty. Normalize the index to be between 0-1."
      ],
      "metadata": {
        "id": "QkKMOrnIqwNe"
      },
      "id": "QkKMOrnIqwNe"
    },
    {
      "cell_type": "code",
      "source": [
        "merged_data = pd.merge(leeds_occupation_data, leeds_fuel_poverty_data, left_on='geography code', right_on='LSOA Code')\n",
        "merged_data['Poverty and Fuel Poverty Index'] = merged_data['Proportion of households fuel poor (%)'] * merged_data['Low Income Occupations (%)']\n",
        "scaler = MinMaxScaler()\n",
        "merged_data['Normalized Poverty and Fuel Poverty Index'] = scaler.fit_transform(merged_data[['Poverty and Fuel Poverty Index']])\n",
        "print(merged_data[['geography', 'Poverty and Fuel Poverty Index', 'Normalized Poverty and Fuel Poverty Index']].head())"
      ],
      "metadata": {
        "id": "8UOzur9aqm0P"
      },
      "id": "8UOzur9aqm0P",
      "execution_count": null,
      "outputs": []
    },
    {
      "cell_type": "markdown",
      "source": [
        "K-means clustering was used to classify the data into three categories, based on the proportion of low-income occupations and the proportion of fuel poverty."
      ],
      "metadata": {
        "id": "wJbks2rWq_PH"
      },
      "id": "wJbks2rWq_PH"
    },
    {
      "cell_type": "code",
      "source": [
        "# K-means clustering analysis\n",
        "kmeans = KMeans(n_clusters=3, random_state=42)\n",
        "merged_data['Cluster'] = kmeans.fit_predict(merged_data[['Low Income Occupations (%)', 'Proportion of households fuel poor (%)']])"
      ],
      "metadata": {
        "collapsed": true,
        "id": "NcIM_ABainsX"
      },
      "id": "NcIM_ABainsX",
      "execution_count": null,
      "outputs": []
    },
    {
      "cell_type": "markdown",
      "id": "6fea5785-5aed-491a-ace3-5ad07d446e4c",
      "metadata": {
        "id": "6fea5785-5aed-491a-ace3-5ad07d446e4c"
      },
      "source": [
        "This is an example block of mardown text I want to reference <a href=\"#ref1\">[1]</a>. I might need to add some more citations <a href=\"#ref2\">[2]</a><a href=\"#ref2\">[3]</a>\n",
        "\n"
      ]
    },
    {
      "cell_type": "markdown",
      "id": "4806cdd0-3484-45dd-b139-f36e28ce77a9",
      "metadata": {
        "id": "4806cdd0-3484-45dd-b139-f36e28ce77a9"
      },
      "source": [
        "Data Visualisation\n",
        "- Don't forget to present your final two data visualisation (one spatial and one non-spatial) and the justifications about the decisions you made whilst preparing and visualising the data."
      ]
    },
    {
      "cell_type": "markdown",
      "source": [
        "Non-spatial visualization: Use scatter plots to display K-means clustering results."
      ],
      "metadata": {
        "id": "t9A9x6MJrJjY"
      },
      "id": "t9A9x6MJrJjY"
    },
    {
      "cell_type": "code",
      "source": [
        "# Non-spatial visualization of K-means clustering results\n",
        "plt.figure(figsize=(10, 6))\n",
        "sns.scatterplot(x=merged_data['Low Income Occupations (%)'], y=merged_data['Proportion of households fuel poor (%)'], hue=merged_data['Cluster'], palette='viridis')\n",
        "plt.xlabel('Low Income Occupations (%)')\n",
        "plt.ylabel('Proportion of Households Fuel Poor (%)')\n",
        "plt.title('K-means Clustering Results: Low Income Occupations vs. Fuel Poverty')\n",
        "plt.legend(title='Cluster')\n",
        "plt.show()"
      ],
      "metadata": {
        "collapsed": true,
        "id": "PgqQWclXpWLq"
      },
      "id": "PgqQWclXpWLq",
      "execution_count": null,
      "outputs": []
    },
    {
      "cell_type": "markdown",
      "source": [
        "Spatial visualization: Create three maps showing the normalized index, the proportion of low-income occupations and the proportion of fuel poverty."
      ],
      "metadata": {
        "id": "w0qbcv1MrS45"
      },
      "id": "w0qbcv1MrS45"
    },
    {
      "cell_type": "code",
      "source": [
        "# Merge fuel poverty data with Leeds geo data\n",
        "leeds_geo = leeds_geo.merge(merged_data, left_on='LSOA21CD', right_on='LSOA Code')\n",
        "\n",
        "# Map of normalized poverty and fuel poverty index\n",
        "fig, ax = plt.subplots(1, 1, figsize=(15, 10))\n",
        "leeds_geo.plot(column='Normalized Poverty and Fuel Poverty Index', ax=ax, legend=True,\n",
        "               legend_kwds={'label': \"Normalized Poverty and Fuel Poverty Index\",\n",
        "                            'orientation': \"horizontal\"})\n",
        "ax.set_title('Spatial Distribution of Normalized Poverty and Fuel Poverty Index in Leeds')\n",
        "plt.show()\n",
        "\n",
        "# Map of low-income occupation proportions\n",
        "fig, ax = plt.subplots(1, 1, figsize=(15, 10))\n",
        "leeds_geo.plot(column='Low Income Occupations (%)', ax=ax, legend=True,\n",
        "               legend_kwds={'label': \"Low Income Occupations (%)\",\n",
        "                            'orientation': \"horizontal\"})\n",
        "ax.set_title('Spatial Distribution of Low Income Occupations (%) in Leeds')\n",
        "plt.show()\n",
        "\n",
        "# Map of fuel poverty proportions\n",
        "fig, ax = plt.subplots(1, 1, figsize=(15, 10))\n",
        "leeds_geo.plot(column='Proportion of households fuel poor (%)', ax=ax, legend=True,\n",
        "               legend_kwds={'label': \"Proportion of Households Fuel Poor (%)\",\n",
        "                            'orientation': \"horizontal\"})\n",
        "ax.set_title('Spatial Distribution of Fuel Poverty Proportion in Leeds')\n",
        "plt.show()"
      ],
      "metadata": {
        "collapsed": true,
        "id": "nLUbsXwopYCL"
      },
      "id": "nLUbsXwopYCL",
      "execution_count": null,
      "outputs": []
    },
    {
      "cell_type": "markdown",
      "id": "393446de-c2bd-47d1-828a-5b60ec65b8c6",
      "metadata": {
        "id": "393446de-c2bd-47d1-828a-5b60ec65b8c6"
      },
      "source": [
        "## References\n",
        "<p><a href=\"add_url_here\">[1]</a>Footnote citation goes here</p>\n",
        "<p><a href=\"https://github.com/FrancescaPontin/GEOG5990\">[2]</a>GEOG5990M course materials</p>\n",
        "<p><a href=\"add_url_here\">[3]</a>Citation 3</p>"
      ]
    }
  ],
  "metadata": {
    "kernelspec": {
      "display_name": "Python 3 (ipykernel)",
      "language": "python",
      "name": "python3"
    },
    "language_info": {
      "codemirror_mode": {
        "name": "ipython",
        "version": 3
      },
      "file_extension": ".py",
      "mimetype": "text/x-python",
      "name": "python",
      "nbconvert_exporter": "python",
      "pygments_lexer": "ipython3",
      "version": "3.10.12"
    },
    "colab": {
      "provenance": []
    }
  },
  "nbformat": 4,
  "nbformat_minor": 5
}